{
 "cells": [
  {
   "cell_type": "code",
   "execution_count": 1,
   "id": "594ef253-8a60-47ea-85a5-53afcbd9cf90",
   "metadata": {},
   "outputs": [
    {
     "data": {
      "text/plain": [
       "'                           RULE_NAME                  RULE_TYPE              OUTPUT_REFERENCE_NAME\\n0  SMR_PL_VAR_COMP_LOSS_RATIO_FACTOR      SECONDARY_MEASUREMENT   SM_PL_VAR_COMP_LOSS_RATIO_FACTOR\\n1                CR_VAR_COMP_PREMIUM  DIRECT_TRANSACTION_CREDIT                 C_VAR_COMP_PREMIUM\\n2   SM_PL_VAR_COMP_LOSS_RATIO_FACTOR      SECONDARY_MEASUREMENT  SMR_PL_VAR_COMP_LOSS_RATIO_FACTOR\\n3                 C_VAR_COMP_PREMIUM  DIRECT_TRANSACTION_CREDIT                CR_VAR_COMP_PREMIUM'"
      ]
     },
     "execution_count": 1,
     "metadata": {},
     "output_type": "execute_result"
    }
   ],
   "source": [
    "import pandas as pd\n",
    "from langchain_ollama import ChatOllama\n",
    "\n",
    "excel_file = 'XML_DATA.xlsx'\n",
    "df = pd.read_excel(excel_file, engine='openpyxl')\n",
    "text_content = df.to_string()\n",
    "text_content"
   ]
  },
  {
   "cell_type": "code",
   "execution_count": 2,
   "id": "7e94dc38-c48e-42ce-b5b3-bb4092c4a6a5",
   "metadata": {},
   "outputs": [
    {
     "data": {
      "text/html": [
       "<div>\n",
       "<style scoped>\n",
       "    .dataframe tbody tr th:only-of-type {\n",
       "        vertical-align: middle;\n",
       "    }\n",
       "\n",
       "    .dataframe tbody tr th {\n",
       "        vertical-align: top;\n",
       "    }\n",
       "\n",
       "    .dataframe thead th {\n",
       "        text-align: right;\n",
       "    }\n",
       "</style>\n",
       "<table border=\"1\" class=\"dataframe\">\n",
       "  <thead>\n",
       "    <tr style=\"text-align: right;\">\n",
       "      <th></th>\n",
       "      <th>RULE_TYPE</th>\n",
       "      <th>RULE_NAME</th>\n",
       "      <th>OUTPUT_REFERENCE_NAME</th>\n",
       "    </tr>\n",
       "  </thead>\n",
       "  <tbody>\n",
       "    <tr>\n",
       "      <th>0</th>\n",
       "      <td>SECONDARY_MEASUREMENT</td>\n",
       "      <td>SMR_PL_VAR_COMP_LOSS_RATIO_FACTOR</td>\n",
       "      <td>SM_PL_VAR_COMP_LOSS_RATIO_FACTOR</td>\n",
       "    </tr>\n",
       "    <tr>\n",
       "      <th>1</th>\n",
       "      <td>DIRECT_TRANSACTION_CREDIT</td>\n",
       "      <td>CR_VAR_COMP_PREMIUM</td>\n",
       "      <td>C_VAR_COMP_PREMIUM</td>\n",
       "    </tr>\n",
       "    <tr>\n",
       "      <th>2</th>\n",
       "      <td>SECONDARY_MEASUREMENT</td>\n",
       "      <td>SM_PL_VAR_COMP_LOSS_RATIO_FACTOR</td>\n",
       "      <td>SMR_PL_VAR_COMP_LOSS_RATIO_FACTOR</td>\n",
       "    </tr>\n",
       "    <tr>\n",
       "      <th>3</th>\n",
       "      <td>DIRECT_TRANSACTION_CREDIT</td>\n",
       "      <td>C_VAR_COMP_PREMIUM</td>\n",
       "      <td>CR_VAR_COMP_PREMIUM</td>\n",
       "    </tr>\n",
       "  </tbody>\n",
       "</table>\n",
       "</div>"
      ],
      "text/plain": [
       "                   RULE_TYPE                          RULE_NAME  \\\n",
       "0      SECONDARY_MEASUREMENT  SMR_PL_VAR_COMP_LOSS_RATIO_FACTOR   \n",
       "1  DIRECT_TRANSACTION_CREDIT                CR_VAR_COMP_PREMIUM   \n",
       "2      SECONDARY_MEASUREMENT   SM_PL_VAR_COMP_LOSS_RATIO_FACTOR   \n",
       "3  DIRECT_TRANSACTION_CREDIT                 C_VAR_COMP_PREMIUM   \n",
       "\n",
       "               OUTPUT_REFERENCE_NAME  \n",
       "0   SM_PL_VAR_COMP_LOSS_RATIO_FACTOR  \n",
       "1                 C_VAR_COMP_PREMIUM  \n",
       "2  SMR_PL_VAR_COMP_LOSS_RATIO_FACTOR  \n",
       "3                CR_VAR_COMP_PREMIUM  "
      ]
     },
     "execution_count": 2,
     "metadata": {},
     "output_type": "execute_result"
    }
   ],
   "source": [
    "df = df[['RULE_TYPE', 'RULE_NAME', 'OUTPUT_REFERENCE_NAME']]\n",
    "df"
   ]
  },
  {
   "cell_type": "markdown",
   "id": "937182f6-15c8-42db-ab04-3e6107a775cf",
   "metadata": {},
   "source": [
    "# Final Approach"
   ]
  },
  {
   "cell_type": "code",
   "execution_count": 4,
   "id": "81f97331-3946-40de-9f91-335d970ef2fd",
   "metadata": {},
   "outputs": [
    {
     "name": "stdout",
     "output_type": "stream",
     "text": [
      "                   RULE_TYPE                          RULE_NAME  \\\n",
      "0      SECONDARY_MEASUREMENT  SMR_PL_VAR_COMP_LOSS_RATIO_FACTOR   \n",
      "1  DIRECT_TRANSACTION_CREDIT                CR_VAR_COMP_PREMIUM   \n",
      "2      SECONDARY_MEASUREMENT   SM_PL_VAR_COMP_LOSS_RATIO_FACTOR   \n",
      "3  DIRECT_TRANSACTION_CREDIT                 C_VAR_COMP_PREMIUM   \n",
      "\n",
      "               OUTPUT_REFERENCE_NAME LLM_VALIDATION  \n",
      "0   SM_PL_VAR_COMP_LOSS_RATIO_FACTOR          VALID  \n",
      "1                 C_VAR_COMP_PREMIUM          VALID  \n",
      "2  SMR_PL_VAR_COMP_LOSS_RATIO_FACTOR   Not Matching  \n",
      "3                CR_VAR_COMP_PREMIUM   Not Matching  \n"
     ]
    }
   ],
   "source": [
    "import pandas as pd\n",
    "import ollama\n",
    "\n",
    "# Step 1: Sample DataFrame\n",
    "# data = {\n",
    "#     \"RULE_TYPE\": [\"SECONDARY_MEASUREMENT\", \"PRIMARY_MEASUREMENT\"],\n",
    "#     \"RULE_NAME\": [\"SMR_PL_VAR_COMP_LOSS_RATIO_FACTOR\", \"WRONG_NAME\"],\n",
    "#     \"OUTPUT_REFERENCE_NAME\": [\"SM_PL_VAR_COMP_LOSS_RATIO_FACTOR\", \"XYZ_OUTPUT\"]\n",
    "# }\n",
    "# df = pd.DataFrame(data)\n",
    "\n",
    "# Step 2: Few-shot examples\n",
    "few_shots = [\n",
    "    {\n",
    "        \"RULE_TYPE\": \"SECONDARY_MEASUREMENT\",\n",
    "        \"RULE_NAME\": \"SMR_PL_VAR_COMP_LOSS_RATIO_FACTOR\",\n",
    "        \"OUTPUT_REFERENCE_NAME\": \"SM_PL_VAR_COMP_LOSS_RATIO_FACTOR\",\n",
    "        \"result\": \"VALID\"\n",
    "    },\n",
    "    {\n",
    "        \"RULE_TYPE\": \"SECONDARY_MEASUREMENT\",\n",
    "        \"RULE_NAME\": \"WRONG_NAME\",\n",
    "        \"OUTPUT_REFERENCE_NAME\": \"SM_PL_VAR_COMP_LOSS_RATIO_FACTOR\",\n",
    "        \"result\": \"Not Matching\"\n",
    "    },\n",
    "    {\n",
    "        \"RULE_TYPE\": \"SECONDARY_MEASUREMENT\",\n",
    "        \"RULE_NAME\": \"SMR_PL_VAR_COMP_LOSS_RATIO_FACTOR\",\n",
    "        \"OUTPUT_REFERENCE_NAME\": \"WRONG_OUTPUT\",\n",
    "        \"result\": \"Not Matching\"\n",
    "    },\n",
    "    {\n",
    "        \"RULE_TYPE\": \"DIRECT_TRANSACTION_CREDIT\t\",\n",
    "        \"RULE_NAME\": \"CR_VAR_COMP_PREMIUM\",\n",
    "        \"OUTPUT_REFERENCE_NAME\": \"C_VAR_COMP_PREMIUM\",\n",
    "        \"result\": \"VALID\"\n",
    "    },\n",
    "    {\n",
    "        \"RULE_TYPE\": \"DIRECT_TRANSACTION_CREDIT\t\",\n",
    "        \"RULE_NAME\": \"WRONG_NAME\",\n",
    "        \"OUTPUT_REFERENCE_NAME\": \"WRONG_NAME\",\n",
    "        \"result\": \"Not Matching\"\n",
    "    }\n",
    "    # {\n",
    "    #     \"RULE_TYPE\": \"DIRECT_TRANSACTION_CREDIT\t\",\n",
    "    #     \"RULE_NAME\": \"CR_VAR_COMP_PREMIUM\",\n",
    "    #     \"OUTPUT_REFERENCE_NAME\": \"WRONG_NAME\",\n",
    "    #     \"result\": \"INVALID\"\n",
    "    # }\n",
    "]\n",
    "\n",
    "# Step 3: Build prompt\n",
    "def build_prompt(row, few_shots):\n",
    "    prompt = \"You are a smart data validator.\\n\"\n",
    "    prompt += \"Rule: If RULE_TYPE is 'SECONDARY_MEASUREMENT', then RULE_NAME must be 'SMR_PL_VAR_COMP_LOSS_RATIO_FACTOR' and OUTPUT_REFERENCE_NAME must be 'SM_PL_VAR_COMP_LOSS_RATIO_FACTOR' on the other hand  RULE_TYPE is 'DIRECT_TRANSACTION_CREDIT\t', then RULE_NAME must be 'CR_VAR_COMP_PREMIUM' and OUTPUT_REFERENCE_NAME must be 'C_VAR_COMP_PREMIUM'.\\n\\n\"\n",
    "    prompt += \"Here are some examples:\\n\"\n",
    "    for shot in few_shots:\n",
    "        example = f\"RULE_TYPE: {shot['RULE_TYPE']}, RULE_NAME: {shot['RULE_NAME']}, OUTPUT_REFERENCE_NAME: {shot['OUTPUT_REFERENCE_NAME']} -> {shot['result']}\\n\"\n",
    "        prompt += example\n",
    "    prompt += \"\\nNow evaluate the following only answer whether its is VALID or Not Matching:\\n\"\n",
    "    prompt += f\"RULE_TYPE: {row['RULE_TYPE']}, RULE_NAME: {row['RULE_NAME']}, OUTPUT_REFERENCE_NAME: {row['OUTPUT_REFERENCE_NAME']}\\n\"\n",
    "    prompt += \"Result:\"\n",
    "    return prompt\n",
    "\n",
    "# Step 4: Call local LLaMA model using Ollama\n",
    "def validate_row_with_llama(row):\n",
    "    prompt = build_prompt(row, few_shots)\n",
    "    response = ollama.chat(\n",
    "        model=\"llama3\",\n",
    "        messages=[\n",
    "            {\"role\": \"system\", \"content\": \"You are a smart data validator.\"},\n",
    "            {\"role\": \"user\", \"content\": prompt}\n",
    "        ],\n",
    "        options={\n",
    "            'temperature': 0\n",
    "            }\n",
    "        # temperature=0  # Ensure deterministic validation\n",
    "    )\n",
    "    return response['message']['content'].strip()\n",
    "\n",
    "# Step 5: Apply to DataFrame\n",
    "df[\"LLM_VALIDATION\"] = df.apply(validate_row_with_llama, axis=1)\n",
    "\n",
    "# Print the results\n",
    "print(df)"
   ]
  },
  {
   "cell_type": "code",
   "execution_count": 5,
   "id": "c071d7db-28dd-4143-a9f1-39186a352fbf",
   "metadata": {},
   "outputs": [
    {
     "data": {
      "text/plain": [
       "'Not Matching'"
      ]
     },
     "execution_count": 5,
     "metadata": {},
     "output_type": "execute_result"
    }
   ],
   "source": [
    "df.iloc[3,3]"
   ]
  },
  {
   "cell_type": "code",
   "execution_count": 6,
   "id": "d45846ff-18cd-4ef1-8e8f-93a950d8d573",
   "metadata": {},
   "outputs": [
    {
     "data": {
      "text/html": [
       "<div>\n",
       "<style scoped>\n",
       "    .dataframe tbody tr th:only-of-type {\n",
       "        vertical-align: middle;\n",
       "    }\n",
       "\n",
       "    .dataframe tbody tr th {\n",
       "        vertical-align: top;\n",
       "    }\n",
       "\n",
       "    .dataframe thead th {\n",
       "        text-align: right;\n",
       "    }\n",
       "</style>\n",
       "<table border=\"1\" class=\"dataframe\">\n",
       "  <thead>\n",
       "    <tr style=\"text-align: right;\">\n",
       "      <th></th>\n",
       "      <th>RULE_TYPE</th>\n",
       "      <th>RULE_NAME</th>\n",
       "      <th>OUTPUT_REFERENCE_NAME</th>\n",
       "      <th>LLM_VALIDATION</th>\n",
       "    </tr>\n",
       "  </thead>\n",
       "  <tbody>\n",
       "    <tr>\n",
       "      <th>0</th>\n",
       "      <td>SECONDARY_MEASUREMENT</td>\n",
       "      <td>SMR_PL_VAR_COMP_LOSS_RATIO_FACTOR</td>\n",
       "      <td>SM_PL_VAR_COMP_LOSS_RATIO_FACTOR</td>\n",
       "      <td>VALID</td>\n",
       "    </tr>\n",
       "    <tr>\n",
       "      <th>1</th>\n",
       "      <td>DIRECT_TRANSACTION_CREDIT</td>\n",
       "      <td>CR_VAR_COMP_PREMIUM</td>\n",
       "      <td>C_VAR_COMP_PREMIUM</td>\n",
       "      <td>VALID</td>\n",
       "    </tr>\n",
       "    <tr>\n",
       "      <th>2</th>\n",
       "      <td>SECONDARY_MEASUREMENT</td>\n",
       "      <td>SM_PL_VAR_COMP_LOSS_RATIO_FACTOR</td>\n",
       "      <td>SMR_PL_VAR_COMP_LOSS_RATIO_FACTOR</td>\n",
       "      <td>Not Matching</td>\n",
       "    </tr>\n",
       "    <tr>\n",
       "      <th>3</th>\n",
       "      <td>DIRECT_TRANSACTION_CREDIT</td>\n",
       "      <td>C_VAR_COMP_PREMIUM</td>\n",
       "      <td>CR_VAR_COMP_PREMIUM</td>\n",
       "      <td>Not Matching</td>\n",
       "    </tr>\n",
       "  </tbody>\n",
       "</table>\n",
       "</div>"
      ],
      "text/plain": [
       "                   RULE_TYPE                          RULE_NAME  \\\n",
       "0      SECONDARY_MEASUREMENT  SMR_PL_VAR_COMP_LOSS_RATIO_FACTOR   \n",
       "1  DIRECT_TRANSACTION_CREDIT                CR_VAR_COMP_PREMIUM   \n",
       "2      SECONDARY_MEASUREMENT   SM_PL_VAR_COMP_LOSS_RATIO_FACTOR   \n",
       "3  DIRECT_TRANSACTION_CREDIT                 C_VAR_COMP_PREMIUM   \n",
       "\n",
       "               OUTPUT_REFERENCE_NAME LLM_VALIDATION  \n",
       "0   SM_PL_VAR_COMP_LOSS_RATIO_FACTOR          VALID  \n",
       "1                 C_VAR_COMP_PREMIUM          VALID  \n",
       "2  SMR_PL_VAR_COMP_LOSS_RATIO_FACTOR   Not Matching  \n",
       "3                CR_VAR_COMP_PREMIUM   Not Matching  "
      ]
     },
     "execution_count": 6,
     "metadata": {},
     "output_type": "execute_result"
    }
   ],
   "source": [
    "df"
   ]
  },
  {
   "cell_type": "code",
   "execution_count": 12,
   "id": "0af240ba-6170-4bd7-941a-25a8fabde49c",
   "metadata": {},
   "outputs": [],
   "source": [
    "df.to_excel('sample_naming_op.xlsx')"
   ]
  },
  {
   "cell_type": "code",
   "execution_count": null,
   "id": "ab43e754-3ed3-4696-bc7c-362d162bd1cf",
   "metadata": {},
   "outputs": [],
   "source": []
  }
 ],
 "metadata": {
  "kernelspec": {
   "display_name": "Python 3 (ipykernel)",
   "language": "python",
   "name": "python3"
  },
  "language_info": {
   "codemirror_mode": {
    "name": "ipython",
    "version": 3
   },
   "file_extension": ".py",
   "mimetype": "text/x-python",
   "name": "python",
   "nbconvert_exporter": "python",
   "pygments_lexer": "ipython3",
   "version": "3.12.7"
  }
 },
 "nbformat": 4,
 "nbformat_minor": 5
}
